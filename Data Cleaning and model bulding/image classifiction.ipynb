{
 "cells": [
  {
   "cell_type": "code",
   "execution_count": 50,
   "id": "db455234",
   "metadata": {},
   "outputs": [],
   "source": [
    "import numpy as np\n",
    "import cv2\n",
    "import matplotlib.pyplot as plt\n",
    "%matplotlib inline"
   ]
  },
  {
   "cell_type": "markdown",
   "id": "c245b3ce",
   "metadata": {},
   "source": [
    "# (1) Preprocessing: Detect face and eyes"
   ]
  },
  {
   "cell_type": "code",
   "execution_count": 51,
   "id": "020bc05b",
   "metadata": {},
   "outputs": [],
   "source": [
    "face_cascade = cv2.CascadeClassifier('C:\\\\Users\\\\ASUS\\\\Downloads\\\\haarcascade_frontalface_default.xml')"
   ]
  },
  {
   "cell_type": "code",
   "execution_count": 52,
   "id": "f85bdb82",
   "metadata": {},
   "outputs": [],
   "source": [
    "eye_cascade = cv2.CascadeClassifier(\"C:\\\\Users\\\\ASUS\\\\Downloads\\\\haarcascade_eye.xml\")"
   ]
  },
  {
   "cell_type": "code",
   "execution_count": 75,
   "id": "2fc6da17",
   "metadata": {},
   "outputs": [],
   "source": [
    "import cv2\n",
    "\n",
    "def get_cropped_image_if_2_eyes(image_path):\n",
    "    img = cv2.imread(image_path)\n",
    "\n",
    "    \n",
    "    if img is None:\n",
    "        print(f\"Error: Failed to load image from '{image_path}'\")\n",
    "        return None\n",
    "\n",
    "    \n",
    "    gray = cv2.cvtColor(img, cv2.COLOR_BGR2GRAY)\n",
    "\n",
    "    \n",
    "    faces = face_cascade.detectMultiScale(gray, 1.3, 5)\n",
    "\n",
    "    for (x, y, w, h) in faces:\n",
    "        roi_gray = gray[y:y+h, x:x+w]\n",
    "        roi_color = img[y:y+h, x:x+w]\n",
    "\n",
    "        \n",
    "        eyes = eye_cascade.detectMultiScale(roi_gray)\n",
    "\n",
    "        if len(eyes) >= 2:\n",
    "            return roi_color  \n",
    "\n",
    "    \n",
    "    return None\n"
   ]
  },
  {
   "cell_type": "code",
   "execution_count": 76,
   "id": "a39730d2",
   "metadata": {},
   "outputs": [],
   "source": [
    "path_to_data = 'C:\\\\Users\\\\ASUS\\\\Downloads\\\\dataset'\n",
    "path_to_cr_data = \"C:\\\\Users\\\\ASUS\\Downloads\\\\dataset\\\\cropped\""
   ]
  },
  {
   "cell_type": "code",
   "execution_count": 77,
   "id": "68b4fa4b",
   "metadata": {},
   "outputs": [],
   "source": [
    "import os\n",
    "img_dirs = []\n",
    "for entry in os.scandir(path_to_data):\n",
    "    if entry.is_dir():\n",
    "        img_dirs.append(entry.path)"
   ]
  },
  {
   "cell_type": "code",
   "execution_count": 78,
   "id": "c5ab345a",
   "metadata": {
    "scrolled": true
   },
   "outputs": [
    {
     "data": {
      "text/plain": [
       "['C:\\\\Users\\\\ASUS\\\\Downloads\\\\dataset\\\\cropped',\n",
       " 'C:\\\\Users\\\\ASUS\\\\Downloads\\\\dataset\\\\mari_sharapova - Google Search',\n",
       " 'C:\\\\Users\\\\ASUS\\\\Downloads\\\\dataset\\\\messi_leonel - Google Search',\n",
       " 'C:\\\\Users\\\\ASUS\\\\Downloads\\\\dataset\\\\sarina_williams - Google Search',\n",
       " 'C:\\\\Users\\\\ASUS\\\\Downloads\\\\dataset\\\\virat_kohli - Google Search']"
      ]
     },
     "execution_count": 78,
     "metadata": {},
     "output_type": "execute_result"
    }
   ],
   "source": [
    "img_dirs"
   ]
  },
  {
   "cell_type": "markdown",
   "id": "bfe834f2",
   "metadata": {},
   "source": [
    "Go through all images in dataset folder and create cropped images for them. There will be cropped folder inside dataset folder after you run this code"
   ]
  },
  {
   "cell_type": "code",
   "execution_count": 79,
   "id": "c0a43975",
   "metadata": {},
   "outputs": [],
   "source": [
    "import shutil\n",
    "if os.path.exists(path_to_cr_data):\n",
    "     shutil.rmtree(path_to_cr_data)\n",
    "os.mkdir(path_to_cr_data)"
   ]
  },
  {
   "cell_type": "code",
   "execution_count": 80,
   "id": "46476ab0",
   "metadata": {
    "scrolled": true
   },
   "outputs": [
    {
     "name": "stdout",
     "output_type": "stream",
     "text": [
      "cropped\n",
      "mari_sharapova - Google Search\n",
      "Generating cropped images in folder:  C:\\Users\\ASUS\\Downloads\\dataset\\cropped\\mari_sharapova - Google Search\n",
      "Error: Failed to load image from 'C:\\Users\\ASUS\\Downloads\\dataset\\mari_sharapova - Google Search\\pageInfo.txt'\n",
      "messi_leonel - Google Search\n",
      "Generating cropped images in folder:  C:\\Users\\ASUS\\Downloads\\dataset\\cropped\\messi_leonel - Google Search\n",
      "Error: Failed to load image from 'C:\\Users\\ASUS\\Downloads\\dataset\\messi_leonel - Google Search\\pageInfo.txt'\n",
      "sarina_williams - Google Search\n",
      "Generating cropped images in folder:  C:\\Users\\ASUS\\Downloads\\dataset\\cropped\\sarina_williams - Google Search\n",
      "Error: Failed to load image from 'C:\\Users\\ASUS\\Downloads\\dataset\\sarina_williams - Google Search\\pageInfo.txt'\n",
      "virat_kohli - Google Search\n",
      "Generating cropped images in folder:  C:\\Users\\ASUS\\Downloads\\dataset\\cropped\\virat_kohli - Google Search\n",
      "Error: Failed to load image from 'C:\\Users\\ASUS\\Downloads\\dataset\\virat_kohli - Google Search\\11728555032365.gif'\n",
      "Error: Failed to load image from 'C:\\Users\\ASUS\\Downloads\\dataset\\virat_kohli - Google Search\\1678836965_57c7769197215ff88fbbb4b52c34856d.gif'\n",
      "Error: Failed to load image from 'C:\\Users\\ASUS\\Downloads\\dataset\\virat_kohli - Google Search\\desktop-wallpaper-material-❤-virat-kohli-ms-dhoni-virat-kohli-instagram-virat-kohli-dark-thumbnail.jpg'\n",
      "Error: Failed to load image from 'C:\\Users\\ASUS\\Downloads\\dataset\\virat_kohli - Google Search\\pageInfo.txt'\n"
     ]
    }
   ],
   "source": [
    "cropped_image_dirs = []\n",
    "celebrity_file_names_dict = {}\n",
    "\n",
    "for img_dir in img_dirs:\n",
    "    count = 1\n",
    "    celebrity_name = img_dir.split('\\\\')[-1]\n",
    "    print(celebrity_name)\n",
    "    \n",
    "    celebrity_file_names_dict[celebrity_name] = []\n",
    "    \n",
    "    for entry in os.scandir(img_dir):\n",
    "        roi_color = get_cropped_image_if_2_eyes(entry.path)\n",
    "        if roi_color is not None:\n",
    "            cropped_folder = os.path.join(path_to_cr_data , celebrity_name)\n",
    "            if not os.path.exists(cropped_folder):\n",
    "                os.makedirs(cropped_folder)\n",
    "                cropped_image_dirs.append(cropped_folder)\n",
    "                print(\"Generating cropped images in folder: \",cropped_folder)\n",
    "                \n",
    "            cropped_file_name = celebrity_name + str(count) + \".jpg\"\n",
    "            cropped_file_path = cropped_folder + \"/\" + cropped_file_name \n",
    "            \n",
    "            cv2.imwrite(cropped_file_path, roi_color)\n",
    "            celebrity_file_names_dict[celebrity_name].append(cropped_file_path)\n",
    "            count += 1 "
   ]
  },
  {
   "cell_type": "markdown",
   "id": "1d2e7796",
   "metadata": {},
   "source": [
    "Manually examine cropped folder and delete any unwanted images"
   ]
  },
  {
   "cell_type": "code",
   "execution_count": 117,
   "id": "16f931e1",
   "metadata": {},
   "outputs": [
    {
     "data": {
      "text/plain": [
       "{'mari_sharapova - Google Search': ['C:\\\\Users\\\\ASUS\\\\Downloads\\\\dataset\\\\cropped\\\\mari_sharapova - Google Search\\\\mari_sharapova - Google Search1.jpg',\n",
       "  'C:\\\\Users\\\\ASUS\\\\Downloads\\\\dataset\\\\cropped\\\\mari_sharapova - Google Search\\\\mari_sharapova - Google Search11.jpg',\n",
       "  'C:\\\\Users\\\\ASUS\\\\Downloads\\\\dataset\\\\cropped\\\\mari_sharapova - Google Search\\\\mari_sharapova - Google Search12.jpg',\n",
       "  'C:\\\\Users\\\\ASUS\\\\Downloads\\\\dataset\\\\cropped\\\\mari_sharapova - Google Search\\\\mari_sharapova - Google Search13.jpg',\n",
       "  'C:\\\\Users\\\\ASUS\\\\Downloads\\\\dataset\\\\cropped\\\\mari_sharapova - Google Search\\\\mari_sharapova - Google Search15.jpg',\n",
       "  'C:\\\\Users\\\\ASUS\\\\Downloads\\\\dataset\\\\cropped\\\\mari_sharapova - Google Search\\\\mari_sharapova - Google Search16.jpg',\n",
       "  'C:\\\\Users\\\\ASUS\\\\Downloads\\\\dataset\\\\cropped\\\\mari_sharapova - Google Search\\\\mari_sharapova - Google Search17.jpg',\n",
       "  'C:\\\\Users\\\\ASUS\\\\Downloads\\\\dataset\\\\cropped\\\\mari_sharapova - Google Search\\\\mari_sharapova - Google Search18.jpg',\n",
       "  'C:\\\\Users\\\\ASUS\\\\Downloads\\\\dataset\\\\cropped\\\\mari_sharapova - Google Search\\\\mari_sharapova - Google Search19.jpg',\n",
       "  'C:\\\\Users\\\\ASUS\\\\Downloads\\\\dataset\\\\cropped\\\\mari_sharapova - Google Search\\\\mari_sharapova - Google Search2.jpg',\n",
       "  'C:\\\\Users\\\\ASUS\\\\Downloads\\\\dataset\\\\cropped\\\\mari_sharapova - Google Search\\\\mari_sharapova - Google Search20.jpg',\n",
       "  'C:\\\\Users\\\\ASUS\\\\Downloads\\\\dataset\\\\cropped\\\\mari_sharapova - Google Search\\\\mari_sharapova - Google Search21.jpg',\n",
       "  'C:\\\\Users\\\\ASUS\\\\Downloads\\\\dataset\\\\cropped\\\\mari_sharapova - Google Search\\\\mari_sharapova - Google Search22.jpg',\n",
       "  'C:\\\\Users\\\\ASUS\\\\Downloads\\\\dataset\\\\cropped\\\\mari_sharapova - Google Search\\\\mari_sharapova - Google Search23.jpg',\n",
       "  'C:\\\\Users\\\\ASUS\\\\Downloads\\\\dataset\\\\cropped\\\\mari_sharapova - Google Search\\\\mari_sharapova - Google Search24.jpg',\n",
       "  'C:\\\\Users\\\\ASUS\\\\Downloads\\\\dataset\\\\cropped\\\\mari_sharapova - Google Search\\\\mari_sharapova - Google Search25.jpg',\n",
       "  'C:\\\\Users\\\\ASUS\\\\Downloads\\\\dataset\\\\cropped\\\\mari_sharapova - Google Search\\\\mari_sharapova - Google Search26.jpg',\n",
       "  'C:\\\\Users\\\\ASUS\\\\Downloads\\\\dataset\\\\cropped\\\\mari_sharapova - Google Search\\\\mari_sharapova - Google Search29.jpg',\n",
       "  'C:\\\\Users\\\\ASUS\\\\Downloads\\\\dataset\\\\cropped\\\\mari_sharapova - Google Search\\\\mari_sharapova - Google Search3.jpg',\n",
       "  'C:\\\\Users\\\\ASUS\\\\Downloads\\\\dataset\\\\cropped\\\\mari_sharapova - Google Search\\\\mari_sharapova - Google Search30.jpg',\n",
       "  'C:\\\\Users\\\\ASUS\\\\Downloads\\\\dataset\\\\cropped\\\\mari_sharapova - Google Search\\\\mari_sharapova - Google Search31.jpg',\n",
       "  'C:\\\\Users\\\\ASUS\\\\Downloads\\\\dataset\\\\cropped\\\\mari_sharapova - Google Search\\\\mari_sharapova - Google Search32.jpg',\n",
       "  'C:\\\\Users\\\\ASUS\\\\Downloads\\\\dataset\\\\cropped\\\\mari_sharapova - Google Search\\\\mari_sharapova - Google Search33.jpg',\n",
       "  'C:\\\\Users\\\\ASUS\\\\Downloads\\\\dataset\\\\cropped\\\\mari_sharapova - Google Search\\\\mari_sharapova - Google Search34.jpg',\n",
       "  'C:\\\\Users\\\\ASUS\\\\Downloads\\\\dataset\\\\cropped\\\\mari_sharapova - Google Search\\\\mari_sharapova - Google Search35.jpg',\n",
       "  'C:\\\\Users\\\\ASUS\\\\Downloads\\\\dataset\\\\cropped\\\\mari_sharapova - Google Search\\\\mari_sharapova - Google Search36.jpg',\n",
       "  'C:\\\\Users\\\\ASUS\\\\Downloads\\\\dataset\\\\cropped\\\\mari_sharapova - Google Search\\\\mari_sharapova - Google Search37.jpg',\n",
       "  'C:\\\\Users\\\\ASUS\\\\Downloads\\\\dataset\\\\cropped\\\\mari_sharapova - Google Search\\\\mari_sharapova - Google Search38.jpg',\n",
       "  'C:\\\\Users\\\\ASUS\\\\Downloads\\\\dataset\\\\cropped\\\\mari_sharapova - Google Search\\\\mari_sharapova - Google Search39.jpg',\n",
       "  'C:\\\\Users\\\\ASUS\\\\Downloads\\\\dataset\\\\cropped\\\\mari_sharapova - Google Search\\\\mari_sharapova - Google Search4.jpg',\n",
       "  'C:\\\\Users\\\\ASUS\\\\Downloads\\\\dataset\\\\cropped\\\\mari_sharapova - Google Search\\\\mari_sharapova - Google Search40.jpg',\n",
       "  'C:\\\\Users\\\\ASUS\\\\Downloads\\\\dataset\\\\cropped\\\\mari_sharapova - Google Search\\\\mari_sharapova - Google Search41.jpg',\n",
       "  'C:\\\\Users\\\\ASUS\\\\Downloads\\\\dataset\\\\cropped\\\\mari_sharapova - Google Search\\\\mari_sharapova - Google Search42.jpg',\n",
       "  'C:\\\\Users\\\\ASUS\\\\Downloads\\\\dataset\\\\cropped\\\\mari_sharapova - Google Search\\\\mari_sharapova - Google Search43.jpg',\n",
       "  'C:\\\\Users\\\\ASUS\\\\Downloads\\\\dataset\\\\cropped\\\\mari_sharapova - Google Search\\\\mari_sharapova - Google Search44.jpg',\n",
       "  'C:\\\\Users\\\\ASUS\\\\Downloads\\\\dataset\\\\cropped\\\\mari_sharapova - Google Search\\\\mari_sharapova - Google Search45.jpg',\n",
       "  'C:\\\\Users\\\\ASUS\\\\Downloads\\\\dataset\\\\cropped\\\\mari_sharapova - Google Search\\\\mari_sharapova - Google Search46.jpg',\n",
       "  'C:\\\\Users\\\\ASUS\\\\Downloads\\\\dataset\\\\cropped\\\\mari_sharapova - Google Search\\\\mari_sharapova - Google Search47.jpg',\n",
       "  'C:\\\\Users\\\\ASUS\\\\Downloads\\\\dataset\\\\cropped\\\\mari_sharapova - Google Search\\\\mari_sharapova - Google Search48.jpg',\n",
       "  'C:\\\\Users\\\\ASUS\\\\Downloads\\\\dataset\\\\cropped\\\\mari_sharapova - Google Search\\\\mari_sharapova - Google Search49.jpg',\n",
       "  'C:\\\\Users\\\\ASUS\\\\Downloads\\\\dataset\\\\cropped\\\\mari_sharapova - Google Search\\\\mari_sharapova - Google Search50.jpg',\n",
       "  'C:\\\\Users\\\\ASUS\\\\Downloads\\\\dataset\\\\cropped\\\\mari_sharapova - Google Search\\\\mari_sharapova - Google Search6.jpg',\n",
       "  'C:\\\\Users\\\\ASUS\\\\Downloads\\\\dataset\\\\cropped\\\\mari_sharapova - Google Search\\\\mari_sharapova - Google Search7.jpg',\n",
       "  'C:\\\\Users\\\\ASUS\\\\Downloads\\\\dataset\\\\cropped\\\\mari_sharapova - Google Search\\\\mari_sharapova - Google Search8.jpg'],\n",
       " 'messi_leonel - Google Search': ['C:\\\\Users\\\\ASUS\\\\Downloads\\\\dataset\\\\cropped\\\\messi_leonel - Google Search\\\\messi_leonel - Google Search1.jpg',\n",
       "  'C:\\\\Users\\\\ASUS\\\\Downloads\\\\dataset\\\\cropped\\\\messi_leonel - Google Search\\\\messi_leonel - Google Search10.jpg',\n",
       "  'C:\\\\Users\\\\ASUS\\\\Downloads\\\\dataset\\\\cropped\\\\messi_leonel - Google Search\\\\messi_leonel - Google Search11.jpg',\n",
       "  'C:\\\\Users\\\\ASUS\\\\Downloads\\\\dataset\\\\cropped\\\\messi_leonel - Google Search\\\\messi_leonel - Google Search12.jpg',\n",
       "  'C:\\\\Users\\\\ASUS\\\\Downloads\\\\dataset\\\\cropped\\\\messi_leonel - Google Search\\\\messi_leonel - Google Search13.jpg',\n",
       "  'C:\\\\Users\\\\ASUS\\\\Downloads\\\\dataset\\\\cropped\\\\messi_leonel - Google Search\\\\messi_leonel - Google Search14.jpg',\n",
       "  'C:\\\\Users\\\\ASUS\\\\Downloads\\\\dataset\\\\cropped\\\\messi_leonel - Google Search\\\\messi_leonel - Google Search15.jpg',\n",
       "  'C:\\\\Users\\\\ASUS\\\\Downloads\\\\dataset\\\\cropped\\\\messi_leonel - Google Search\\\\messi_leonel - Google Search16.jpg',\n",
       "  'C:\\\\Users\\\\ASUS\\\\Downloads\\\\dataset\\\\cropped\\\\messi_leonel - Google Search\\\\messi_leonel - Google Search17.jpg',\n",
       "  'C:\\\\Users\\\\ASUS\\\\Downloads\\\\dataset\\\\cropped\\\\messi_leonel - Google Search\\\\messi_leonel - Google Search18.jpg',\n",
       "  'C:\\\\Users\\\\ASUS\\\\Downloads\\\\dataset\\\\cropped\\\\messi_leonel - Google Search\\\\messi_leonel - Google Search19.jpg',\n",
       "  'C:\\\\Users\\\\ASUS\\\\Downloads\\\\dataset\\\\cropped\\\\messi_leonel - Google Search\\\\messi_leonel - Google Search2.jpg',\n",
       "  'C:\\\\Users\\\\ASUS\\\\Downloads\\\\dataset\\\\cropped\\\\messi_leonel - Google Search\\\\messi_leonel - Google Search20.jpg',\n",
       "  'C:\\\\Users\\\\ASUS\\\\Downloads\\\\dataset\\\\cropped\\\\messi_leonel - Google Search\\\\messi_leonel - Google Search21.jpg',\n",
       "  'C:\\\\Users\\\\ASUS\\\\Downloads\\\\dataset\\\\cropped\\\\messi_leonel - Google Search\\\\messi_leonel - Google Search22.jpg',\n",
       "  'C:\\\\Users\\\\ASUS\\\\Downloads\\\\dataset\\\\cropped\\\\messi_leonel - Google Search\\\\messi_leonel - Google Search23.jpg',\n",
       "  'C:\\\\Users\\\\ASUS\\\\Downloads\\\\dataset\\\\cropped\\\\messi_leonel - Google Search\\\\messi_leonel - Google Search24.jpg',\n",
       "  'C:\\\\Users\\\\ASUS\\\\Downloads\\\\dataset\\\\cropped\\\\messi_leonel - Google Search\\\\messi_leonel - Google Search25.jpg',\n",
       "  'C:\\\\Users\\\\ASUS\\\\Downloads\\\\dataset\\\\cropped\\\\messi_leonel - Google Search\\\\messi_leonel - Google Search26.jpg',\n",
       "  'C:\\\\Users\\\\ASUS\\\\Downloads\\\\dataset\\\\cropped\\\\messi_leonel - Google Search\\\\messi_leonel - Google Search27.jpg',\n",
       "  'C:\\\\Users\\\\ASUS\\\\Downloads\\\\dataset\\\\cropped\\\\messi_leonel - Google Search\\\\messi_leonel - Google Search28.jpg',\n",
       "  'C:\\\\Users\\\\ASUS\\\\Downloads\\\\dataset\\\\cropped\\\\messi_leonel - Google Search\\\\messi_leonel - Google Search29.jpg',\n",
       "  'C:\\\\Users\\\\ASUS\\\\Downloads\\\\dataset\\\\cropped\\\\messi_leonel - Google Search\\\\messi_leonel - Google Search3.jpg',\n",
       "  'C:\\\\Users\\\\ASUS\\\\Downloads\\\\dataset\\\\cropped\\\\messi_leonel - Google Search\\\\messi_leonel - Google Search30.jpg',\n",
       "  'C:\\\\Users\\\\ASUS\\\\Downloads\\\\dataset\\\\cropped\\\\messi_leonel - Google Search\\\\messi_leonel - Google Search32.jpg',\n",
       "  'C:\\\\Users\\\\ASUS\\\\Downloads\\\\dataset\\\\cropped\\\\messi_leonel - Google Search\\\\messi_leonel - Google Search35.jpg',\n",
       "  'C:\\\\Users\\\\ASUS\\\\Downloads\\\\dataset\\\\cropped\\\\messi_leonel - Google Search\\\\messi_leonel - Google Search36.jpg',\n",
       "  'C:\\\\Users\\\\ASUS\\\\Downloads\\\\dataset\\\\cropped\\\\messi_leonel - Google Search\\\\messi_leonel - Google Search37.jpg',\n",
       "  'C:\\\\Users\\\\ASUS\\\\Downloads\\\\dataset\\\\cropped\\\\messi_leonel - Google Search\\\\messi_leonel - Google Search38.jpg',\n",
       "  'C:\\\\Users\\\\ASUS\\\\Downloads\\\\dataset\\\\cropped\\\\messi_leonel - Google Search\\\\messi_leonel - Google Search39.jpg',\n",
       "  'C:\\\\Users\\\\ASUS\\\\Downloads\\\\dataset\\\\cropped\\\\messi_leonel - Google Search\\\\messi_leonel - Google Search4.jpg',\n",
       "  'C:\\\\Users\\\\ASUS\\\\Downloads\\\\dataset\\\\cropped\\\\messi_leonel - Google Search\\\\messi_leonel - Google Search40.jpg',\n",
       "  'C:\\\\Users\\\\ASUS\\\\Downloads\\\\dataset\\\\cropped\\\\messi_leonel - Google Search\\\\messi_leonel - Google Search41.jpg',\n",
       "  'C:\\\\Users\\\\ASUS\\\\Downloads\\\\dataset\\\\cropped\\\\messi_leonel - Google Search\\\\messi_leonel - Google Search42.jpg',\n",
       "  'C:\\\\Users\\\\ASUS\\\\Downloads\\\\dataset\\\\cropped\\\\messi_leonel - Google Search\\\\messi_leonel - Google Search43.jpg',\n",
       "  'C:\\\\Users\\\\ASUS\\\\Downloads\\\\dataset\\\\cropped\\\\messi_leonel - Google Search\\\\messi_leonel - Google Search44.jpg',\n",
       "  'C:\\\\Users\\\\ASUS\\\\Downloads\\\\dataset\\\\cropped\\\\messi_leonel - Google Search\\\\messi_leonel - Google Search45.jpg',\n",
       "  'C:\\\\Users\\\\ASUS\\\\Downloads\\\\dataset\\\\cropped\\\\messi_leonel - Google Search\\\\messi_leonel - Google Search5.jpg',\n",
       "  'C:\\\\Users\\\\ASUS\\\\Downloads\\\\dataset\\\\cropped\\\\messi_leonel - Google Search\\\\messi_leonel - Google Search6.jpg',\n",
       "  'C:\\\\Users\\\\ASUS\\\\Downloads\\\\dataset\\\\cropped\\\\messi_leonel - Google Search\\\\messi_leonel - Google Search7.jpg',\n",
       "  'C:\\\\Users\\\\ASUS\\\\Downloads\\\\dataset\\\\cropped\\\\messi_leonel - Google Search\\\\messi_leonel - Google Search8.jpg',\n",
       "  'C:\\\\Users\\\\ASUS\\\\Downloads\\\\dataset\\\\cropped\\\\messi_leonel - Google Search\\\\messi_leonel - Google Search9.jpg'],\n",
       " 'sarina_williams - Google Search': ['C:\\\\Users\\\\ASUS\\\\Downloads\\\\dataset\\\\cropped\\\\sarina_williams - Google Search\\\\sarina_williams - Google Search1.jpg',\n",
       "  'C:\\\\Users\\\\ASUS\\\\Downloads\\\\dataset\\\\cropped\\\\sarina_williams - Google Search\\\\sarina_williams - Google Search10.jpg',\n",
       "  'C:\\\\Users\\\\ASUS\\\\Downloads\\\\dataset\\\\cropped\\\\sarina_williams - Google Search\\\\sarina_williams - Google Search11.jpg',\n",
       "  'C:\\\\Users\\\\ASUS\\\\Downloads\\\\dataset\\\\cropped\\\\sarina_williams - Google Search\\\\sarina_williams - Google Search12.jpg',\n",
       "  'C:\\\\Users\\\\ASUS\\\\Downloads\\\\dataset\\\\cropped\\\\sarina_williams - Google Search\\\\sarina_williams - Google Search14.jpg',\n",
       "  'C:\\\\Users\\\\ASUS\\\\Downloads\\\\dataset\\\\cropped\\\\sarina_williams - Google Search\\\\sarina_williams - Google Search15.jpg',\n",
       "  'C:\\\\Users\\\\ASUS\\\\Downloads\\\\dataset\\\\cropped\\\\sarina_williams - Google Search\\\\sarina_williams - Google Search16.jpg',\n",
       "  'C:\\\\Users\\\\ASUS\\\\Downloads\\\\dataset\\\\cropped\\\\sarina_williams - Google Search\\\\sarina_williams - Google Search17.jpg',\n",
       "  'C:\\\\Users\\\\ASUS\\\\Downloads\\\\dataset\\\\cropped\\\\sarina_williams - Google Search\\\\sarina_williams - Google Search2.jpg',\n",
       "  'C:\\\\Users\\\\ASUS\\\\Downloads\\\\dataset\\\\cropped\\\\sarina_williams - Google Search\\\\sarina_williams - Google Search20.jpg',\n",
       "  'C:\\\\Users\\\\ASUS\\\\Downloads\\\\dataset\\\\cropped\\\\sarina_williams - Google Search\\\\sarina_williams - Google Search21.jpg',\n",
       "  'C:\\\\Users\\\\ASUS\\\\Downloads\\\\dataset\\\\cropped\\\\sarina_williams - Google Search\\\\sarina_williams - Google Search22.jpg',\n",
       "  'C:\\\\Users\\\\ASUS\\\\Downloads\\\\dataset\\\\cropped\\\\sarina_williams - Google Search\\\\sarina_williams - Google Search24.jpg',\n",
       "  'C:\\\\Users\\\\ASUS\\\\Downloads\\\\dataset\\\\cropped\\\\sarina_williams - Google Search\\\\sarina_williams - Google Search26.jpg',\n",
       "  'C:\\\\Users\\\\ASUS\\\\Downloads\\\\dataset\\\\cropped\\\\sarina_williams - Google Search\\\\sarina_williams - Google Search27.jpg',\n",
       "  'C:\\\\Users\\\\ASUS\\\\Downloads\\\\dataset\\\\cropped\\\\sarina_williams - Google Search\\\\sarina_williams - Google Search28.jpg',\n",
       "  'C:\\\\Users\\\\ASUS\\\\Downloads\\\\dataset\\\\cropped\\\\sarina_williams - Google Search\\\\sarina_williams - Google Search3.jpg',\n",
       "  'C:\\\\Users\\\\ASUS\\\\Downloads\\\\dataset\\\\cropped\\\\sarina_williams - Google Search\\\\sarina_williams - Google Search30.jpg',\n",
       "  'C:\\\\Users\\\\ASUS\\\\Downloads\\\\dataset\\\\cropped\\\\sarina_williams - Google Search\\\\sarina_williams - Google Search31.jpg',\n",
       "  'C:\\\\Users\\\\ASUS\\\\Downloads\\\\dataset\\\\cropped\\\\sarina_williams - Google Search\\\\sarina_williams - Google Search32.jpg',\n",
       "  'C:\\\\Users\\\\ASUS\\\\Downloads\\\\dataset\\\\cropped\\\\sarina_williams - Google Search\\\\sarina_williams - Google Search33.jpg',\n",
       "  'C:\\\\Users\\\\ASUS\\\\Downloads\\\\dataset\\\\cropped\\\\sarina_williams - Google Search\\\\sarina_williams - Google Search35.jpg',\n",
       "  'C:\\\\Users\\\\ASUS\\\\Downloads\\\\dataset\\\\cropped\\\\sarina_williams - Google Search\\\\sarina_williams - Google Search36.jpg',\n",
       "  'C:\\\\Users\\\\ASUS\\\\Downloads\\\\dataset\\\\cropped\\\\sarina_williams - Google Search\\\\sarina_williams - Google Search4.jpg',\n",
       "  'C:\\\\Users\\\\ASUS\\\\Downloads\\\\dataset\\\\cropped\\\\sarina_williams - Google Search\\\\sarina_williams - Google Search5.jpg',\n",
       "  'C:\\\\Users\\\\ASUS\\\\Downloads\\\\dataset\\\\cropped\\\\sarina_williams - Google Search\\\\sarina_williams - Google Search6.jpg',\n",
       "  'C:\\\\Users\\\\ASUS\\\\Downloads\\\\dataset\\\\cropped\\\\sarina_williams - Google Search\\\\sarina_williams - Google Search8.jpg'],\n",
       " 'virat_kohli - Google Search': ['C:\\\\Users\\\\ASUS\\\\Downloads\\\\dataset\\\\cropped\\\\virat_kohli - Google Search\\\\virat_kohli - Google Search1.jpg',\n",
       "  'C:\\\\Users\\\\ASUS\\\\Downloads\\\\dataset\\\\cropped\\\\virat_kohli - Google Search\\\\virat_kohli - Google Search10.jpg',\n",
       "  'C:\\\\Users\\\\ASUS\\\\Downloads\\\\dataset\\\\cropped\\\\virat_kohli - Google Search\\\\virat_kohli - Google Search11.jpg',\n",
       "  'C:\\\\Users\\\\ASUS\\\\Downloads\\\\dataset\\\\cropped\\\\virat_kohli - Google Search\\\\virat_kohli - Google Search12.jpg',\n",
       "  'C:\\\\Users\\\\ASUS\\\\Downloads\\\\dataset\\\\cropped\\\\virat_kohli - Google Search\\\\virat_kohli - Google Search13.jpg',\n",
       "  'C:\\\\Users\\\\ASUS\\\\Downloads\\\\dataset\\\\cropped\\\\virat_kohli - Google Search\\\\virat_kohli - Google Search14.jpg',\n",
       "  'C:\\\\Users\\\\ASUS\\\\Downloads\\\\dataset\\\\cropped\\\\virat_kohli - Google Search\\\\virat_kohli - Google Search15.jpg',\n",
       "  'C:\\\\Users\\\\ASUS\\\\Downloads\\\\dataset\\\\cropped\\\\virat_kohli - Google Search\\\\virat_kohli - Google Search16.jpg',\n",
       "  'C:\\\\Users\\\\ASUS\\\\Downloads\\\\dataset\\\\cropped\\\\virat_kohli - Google Search\\\\virat_kohli - Google Search17.jpg',\n",
       "  'C:\\\\Users\\\\ASUS\\\\Downloads\\\\dataset\\\\cropped\\\\virat_kohli - Google Search\\\\virat_kohli - Google Search18.jpg',\n",
       "  'C:\\\\Users\\\\ASUS\\\\Downloads\\\\dataset\\\\cropped\\\\virat_kohli - Google Search\\\\virat_kohli - Google Search19.jpg',\n",
       "  'C:\\\\Users\\\\ASUS\\\\Downloads\\\\dataset\\\\cropped\\\\virat_kohli - Google Search\\\\virat_kohli - Google Search2.jpg',\n",
       "  'C:\\\\Users\\\\ASUS\\\\Downloads\\\\dataset\\\\cropped\\\\virat_kohli - Google Search\\\\virat_kohli - Google Search20.jpg',\n",
       "  'C:\\\\Users\\\\ASUS\\\\Downloads\\\\dataset\\\\cropped\\\\virat_kohli - Google Search\\\\virat_kohli - Google Search21.jpg',\n",
       "  'C:\\\\Users\\\\ASUS\\\\Downloads\\\\dataset\\\\cropped\\\\virat_kohli - Google Search\\\\virat_kohli - Google Search22.jpg',\n",
       "  'C:\\\\Users\\\\ASUS\\\\Downloads\\\\dataset\\\\cropped\\\\virat_kohli - Google Search\\\\virat_kohli - Google Search23.jpg',\n",
       "  'C:\\\\Users\\\\ASUS\\\\Downloads\\\\dataset\\\\cropped\\\\virat_kohli - Google Search\\\\virat_kohli - Google Search24.jpg',\n",
       "  'C:\\\\Users\\\\ASUS\\\\Downloads\\\\dataset\\\\cropped\\\\virat_kohli - Google Search\\\\virat_kohli - Google Search25.jpg',\n",
       "  'C:\\\\Users\\\\ASUS\\\\Downloads\\\\dataset\\\\cropped\\\\virat_kohli - Google Search\\\\virat_kohli - Google Search26.jpg',\n",
       "  'C:\\\\Users\\\\ASUS\\\\Downloads\\\\dataset\\\\cropped\\\\virat_kohli - Google Search\\\\virat_kohli - Google Search28.jpg',\n",
       "  'C:\\\\Users\\\\ASUS\\\\Downloads\\\\dataset\\\\cropped\\\\virat_kohli - Google Search\\\\virat_kohli - Google Search29.jpg',\n",
       "  'C:\\\\Users\\\\ASUS\\\\Downloads\\\\dataset\\\\cropped\\\\virat_kohli - Google Search\\\\virat_kohli - Google Search3.jpg',\n",
       "  'C:\\\\Users\\\\ASUS\\\\Downloads\\\\dataset\\\\cropped\\\\virat_kohli - Google Search\\\\virat_kohli - Google Search30.jpg',\n",
       "  'C:\\\\Users\\\\ASUS\\\\Downloads\\\\dataset\\\\cropped\\\\virat_kohli - Google Search\\\\virat_kohli - Google Search31.jpg',\n",
       "  'C:\\\\Users\\\\ASUS\\\\Downloads\\\\dataset\\\\cropped\\\\virat_kohli - Google Search\\\\virat_kohli - Google Search32.jpg',\n",
       "  'C:\\\\Users\\\\ASUS\\\\Downloads\\\\dataset\\\\cropped\\\\virat_kohli - Google Search\\\\virat_kohli - Google Search33.jpg',\n",
       "  'C:\\\\Users\\\\ASUS\\\\Downloads\\\\dataset\\\\cropped\\\\virat_kohli - Google Search\\\\virat_kohli - Google Search34.jpg',\n",
       "  'C:\\\\Users\\\\ASUS\\\\Downloads\\\\dataset\\\\cropped\\\\virat_kohli - Google Search\\\\virat_kohli - Google Search35.jpg',\n",
       "  'C:\\\\Users\\\\ASUS\\\\Downloads\\\\dataset\\\\cropped\\\\virat_kohli - Google Search\\\\virat_kohli - Google Search36.jpg',\n",
       "  'C:\\\\Users\\\\ASUS\\\\Downloads\\\\dataset\\\\cropped\\\\virat_kohli - Google Search\\\\virat_kohli - Google Search37.jpg',\n",
       "  'C:\\\\Users\\\\ASUS\\\\Downloads\\\\dataset\\\\cropped\\\\virat_kohli - Google Search\\\\virat_kohli - Google Search38.jpg',\n",
       "  'C:\\\\Users\\\\ASUS\\\\Downloads\\\\dataset\\\\cropped\\\\virat_kohli - Google Search\\\\virat_kohli - Google Search39.jpg',\n",
       "  'C:\\\\Users\\\\ASUS\\\\Downloads\\\\dataset\\\\cropped\\\\virat_kohli - Google Search\\\\virat_kohli - Google Search4.jpg',\n",
       "  'C:\\\\Users\\\\ASUS\\\\Downloads\\\\dataset\\\\cropped\\\\virat_kohli - Google Search\\\\virat_kohli - Google Search40.jpg',\n",
       "  'C:\\\\Users\\\\ASUS\\\\Downloads\\\\dataset\\\\cropped\\\\virat_kohli - Google Search\\\\virat_kohli - Google Search41.jpg',\n",
       "  'C:\\\\Users\\\\ASUS\\\\Downloads\\\\dataset\\\\cropped\\\\virat_kohli - Google Search\\\\virat_kohli - Google Search42.jpg',\n",
       "  'C:\\\\Users\\\\ASUS\\\\Downloads\\\\dataset\\\\cropped\\\\virat_kohli - Google Search\\\\virat_kohli - Google Search43.jpg',\n",
       "  'C:\\\\Users\\\\ASUS\\\\Downloads\\\\dataset\\\\cropped\\\\virat_kohli - Google Search\\\\virat_kohli - Google Search5.jpg',\n",
       "  'C:\\\\Users\\\\ASUS\\\\Downloads\\\\dataset\\\\cropped\\\\virat_kohli - Google Search\\\\virat_kohli - Google Search6.jpg',\n",
       "  'C:\\\\Users\\\\ASUS\\\\Downloads\\\\dataset\\\\cropped\\\\virat_kohli - Google Search\\\\virat_kohli - Google Search7.jpg',\n",
       "  'C:\\\\Users\\\\ASUS\\\\Downloads\\\\dataset\\\\cropped\\\\virat_kohli - Google Search\\\\virat_kohli - Google Search8.jpg',\n",
       "  'C:\\\\Users\\\\ASUS\\\\Downloads\\\\dataset\\\\cropped\\\\virat_kohli - Google Search\\\\virat_kohli - Google Search9.jpg']}"
      ]
     },
     "execution_count": 117,
     "metadata": {},
     "output_type": "execute_result"
    }
   ],
   "source": [
    "celebrity_file_names_dict = {}\n",
    "for img_dir in cropped_image_dirs:\n",
    "    celebrity_name = img_dir.split('\\\\')[-1]\n",
    "    file_list = []\n",
    "    for entry in os.scandir(img_dir):\n",
    "        file_list.append(entry.path)\n",
    "    celebrity_file_names_dict[celebrity_name] = file_list\n",
    "celebrity_file_names_dict"
   ]
  },
  {
   "cell_type": "markdown",
   "id": "10a01d66",
   "metadata": {},
   "source": [
    "# (2) Preprocessing: Use wavelet transform as a feature for traning our model"
   ]
  },
  {
   "cell_type": "markdown",
   "id": "6d692e55",
   "metadata": {},
   "source": [
    "In wavelet transformed image, you can see edges clearly and that can give us clues on various facial features such as eyes, nose, lips etc"
   ]
  },
  {
   "cell_type": "code",
   "execution_count": 111,
   "id": "f72ee0a0",
   "metadata": {},
   "outputs": [],
   "source": [
    "import numpy as np\n",
    "import pywt\n",
    "import cv2    \n",
    "\n",
    "def w2d(img, mode='haar', level=1):\n",
    "    imArray = img\n",
    "    imArray = cv2.cvtColor( imArray,cv2.COLOR_RGB2GRAY )\n",
    "    imArray =  np.float32(imArray)   \n",
    "    imArray /= 255;\n",
    "    coeffs=pywt.wavedec2(imArray, mode, level=level)\n",
    "\n",
    "    \n",
    "    coeffs_H=list(coeffs)  \n",
    "    coeffs_H[0] *= 0;  \n",
    "\n",
    "    \n",
    "    imArray_H=pywt.waverec2(coeffs_H, mode);\n",
    "    imArray_H *= 255;\n",
    "    imArray_H =  np.uint8(imArray_H)\n",
    "\n",
    "    return imArray_H"
   ]
  },
  {
   "cell_type": "code",
   "execution_count": 118,
   "id": "7681ea23",
   "metadata": {
    "scrolled": false
   },
   "outputs": [
    {
     "data": {
      "text/plain": [
       "{'mari_sharapova - Google Search': 0,\n",
       " 'messi_leonel - Google Search': 1,\n",
       " 'sarina_williams - Google Search': 2,\n",
       " 'virat_kohli - Google Search': 3}"
      ]
     },
     "execution_count": 118,
     "metadata": {},
     "output_type": "execute_result"
    }
   ],
   "source": [
    "class_dict = {}\n",
    "count = 0\n",
    "for celebrity_name in celebrity_file_names_dict.keys():\n",
    "    class_dict[celebrity_name] = count\n",
    "    count = count + 1\n",
    "class_dict"
   ]
  },
  {
   "cell_type": "markdown",
   "id": "83220e5a",
   "metadata": {},
   "source": [
    "# Images in cropped folder can be used for model training. We will use these raw images along with wavelet transformed images to train our classifier."
   ]
  },
  {
   "cell_type": "code",
   "execution_count": 119,
   "id": "ac368e31",
   "metadata": {},
   "outputs": [],
   "source": [
    "X, y = [], []\n",
    "for celebrity_name, training_files in celebrity_file_names_dict.items():\n",
    "    for training_image in training_files:\n",
    "        img = cv2.imread(training_image)\n",
    "        if img is None:\n",
    "            continue\n",
    "        scalled_raw_img = cv2.resize(img, (32, 32))\n",
    "        img_har = w2d(img,'db1',5)\n",
    "        scalled_img_har = cv2.resize(img_har, (32, 32))\n",
    "        combined_img = np.vstack((scalled_raw_img.reshape(32*32*3,1),scalled_img_har.reshape(32*32,1)))\n",
    "        X.append(combined_img)\n",
    "        y.append(class_dict[celebrity_name])"
   ]
  },
  {
   "cell_type": "code",
   "execution_count": 120,
   "id": "fd29ac37",
   "metadata": {},
   "outputs": [
    {
     "data": {
      "text/plain": [
       "4096"
      ]
     },
     "execution_count": 120,
     "metadata": {},
     "output_type": "execute_result"
    }
   ],
   "source": [
    "len(X[0])"
   ]
  },
  {
   "cell_type": "code",
   "execution_count": 121,
   "id": "d5021880",
   "metadata": {},
   "outputs": [
    {
     "data": {
      "text/plain": [
       "array([[225],\n",
       "       [232],\n",
       "       [238],\n",
       "       ...,\n",
       "       [201],\n",
       "       [241],\n",
       "       [ 21]], dtype=uint8)"
      ]
     },
     "execution_count": 121,
     "metadata": {},
     "output_type": "execute_result"
    }
   ],
   "source": [
    "X[0]"
   ]
  },
  {
   "cell_type": "code",
   "execution_count": 122,
   "id": "39a9e777",
   "metadata": {},
   "outputs": [
    {
     "data": {
      "text/plain": [
       "(155, 4096)"
      ]
     },
     "execution_count": 122,
     "metadata": {},
     "output_type": "execute_result"
    }
   ],
   "source": [
    "X = np.array(X).reshape(len(X),4096).astype(float)\n",
    "X.shape"
   ]
  },
  {
   "cell_type": "code",
   "execution_count": 123,
   "id": "8b25ba1c",
   "metadata": {},
   "outputs": [
    {
     "data": {
      "text/plain": [
       "array([225., 232., 238., ..., 201., 241.,  21.])"
      ]
     },
     "execution_count": 123,
     "metadata": {},
     "output_type": "execute_result"
    }
   ],
   "source": [
    "X[0]"
   ]
  },
  {
   "cell_type": "code",
   "execution_count": 124,
   "id": "f0548f93",
   "metadata": {},
   "outputs": [
    {
     "data": {
      "text/plain": [
       "0"
      ]
     },
     "execution_count": 124,
     "metadata": {},
     "output_type": "execute_result"
    }
   ],
   "source": [
    "y[1]"
   ]
  },
  {
   "cell_type": "markdown",
   "id": "361f36de",
   "metadata": {},
   "source": [
    "# (3) Model Bulding"
   ]
  },
  {
   "cell_type": "markdown",
   "id": "afc5f868",
   "metadata": {},
   "source": [
    "Let\"s use SVC model to get general idea how our model is performing."
   ]
  },
  {
   "cell_type": "code",
   "execution_count": 125,
   "id": "03f34b1a",
   "metadata": {},
   "outputs": [],
   "source": [
    "from sklearn.svm import SVC\n",
    "from sklearn.preprocessing import StandardScaler\n",
    "from sklearn.model_selection import train_test_split\n",
    "from sklearn.pipeline import Pipeline\n",
    "from sklearn.metrics import classification_report"
   ]
  },
  {
   "cell_type": "code",
   "execution_count": 126,
   "id": "c0015038",
   "metadata": {},
   "outputs": [
    {
     "data": {
      "text/plain": [
       "0.5897435897435898"
      ]
     },
     "execution_count": 126,
     "metadata": {},
     "output_type": "execute_result"
    }
   ],
   "source": [
    "X_train, X_test, y_train, y_test = train_test_split(X, y, random_state=0)\n",
    "pipe = Pipeline([('scaler', StandardScaler()), ('svc', SVC(kernel = 'rbf', C = 10))])\n",
    "pipe.fit(X_train, y_train)\n",
    "pipe.score(X_test, y_test)"
   ]
  },
  {
   "cell_type": "code",
   "execution_count": 127,
   "id": "226d02e6",
   "metadata": {
    "scrolled": true
   },
   "outputs": [
    {
     "data": {
      "text/plain": [
       "39"
      ]
     },
     "execution_count": 127,
     "metadata": {},
     "output_type": "execute_result"
    }
   ],
   "source": [
    "len(X_test)"
   ]
  },
  {
   "cell_type": "code",
   "execution_count": 128,
   "id": "9d6d9c73",
   "metadata": {},
   "outputs": [
    {
     "name": "stdout",
     "output_type": "stream",
     "text": [
      "              precision    recall  f1-score   support\n",
      "\n",
      "           0       0.64      0.82      0.72        11\n",
      "           1       0.67      0.33      0.44         6\n",
      "           2       1.00      0.29      0.44        14\n",
      "           3       0.44      1.00      0.62         8\n",
      "\n",
      "    accuracy                           0.59        39\n",
      "   macro avg       0.69      0.61      0.56        39\n",
      "weighted avg       0.73      0.59      0.56        39\n",
      "\n"
     ]
    }
   ],
   "source": [
    "print(classification_report(y_test, pipe.predict(X_test)))"
   ]
  },
  {
   "cell_type": "markdown",
   "id": "f3064ab3",
   "metadata": {},
   "source": [
    "## Let's use GridSearch to try out different models with different paramets"
   ]
  },
  {
   "cell_type": "code",
   "execution_count": 129,
   "id": "1a7450ce",
   "metadata": {},
   "outputs": [],
   "source": [
    "from sklearn import svm\n",
    "from sklearn.ensemble import RandomForestClassifier\n",
    "from sklearn.linear_model import LogisticRegression\n",
    "from sklearn.pipeline import make_pipeline\n",
    "from sklearn.model_selection import GridSearchCV"
   ]
  },
  {
   "cell_type": "code",
   "execution_count": 130,
   "id": "9782b72e",
   "metadata": {},
   "outputs": [],
   "source": [
    "model_params = {\n",
    "    'svm': {\n",
    "        'model': svm.SVC(gamma='auto',probability=True),\n",
    "        'params' : {\n",
    "            'svc__C': [1,10,100,1000],\n",
    "            'svc__kernel': ['rbf','linear']\n",
    "        }  \n",
    "    },\n",
    "    'random_forest': {\n",
    "        'model': RandomForestClassifier(),\n",
    "        'params' : {\n",
    "            'randomforestclassifier__n_estimators': [1,5,10]\n",
    "        }\n",
    "    },\n",
    "    'logistic_regression' : {\n",
    "        'model': LogisticRegression(solver='liblinear',multi_class='auto'),\n",
    "        'params': {\n",
    "            'logisticregression__C': [1,5,10]\n",
    "        }\n",
    "    }\n",
    "}"
   ]
  },
  {
   "cell_type": "code",
   "execution_count": 132,
   "id": "1d3cd472",
   "metadata": {},
   "outputs": [
    {
     "data": {
      "text/html": [
       "<div>\n",
       "<style scoped>\n",
       "    .dataframe tbody tr th:only-of-type {\n",
       "        vertical-align: middle;\n",
       "    }\n",
       "\n",
       "    .dataframe tbody tr th {\n",
       "        vertical-align: top;\n",
       "    }\n",
       "\n",
       "    .dataframe thead th {\n",
       "        text-align: right;\n",
       "    }\n",
       "</style>\n",
       "<table border=\"1\" class=\"dataframe\">\n",
       "  <thead>\n",
       "    <tr style=\"text-align: right;\">\n",
       "      <th></th>\n",
       "      <th>model</th>\n",
       "      <th>best_score</th>\n",
       "      <th>best_params</th>\n",
       "    </tr>\n",
       "  </thead>\n",
       "  <tbody>\n",
       "    <tr>\n",
       "      <th>0</th>\n",
       "      <td>svm</td>\n",
       "      <td>0.827536</td>\n",
       "      <td>{'svc__C': 1, 'svc__kernel': 'linear'}</td>\n",
       "    </tr>\n",
       "    <tr>\n",
       "      <th>1</th>\n",
       "      <td>random_forest</td>\n",
       "      <td>0.714493</td>\n",
       "      <td>{'randomforestclassifier__n_estimators': 10}</td>\n",
       "    </tr>\n",
       "    <tr>\n",
       "      <th>2</th>\n",
       "      <td>logistic_regression</td>\n",
       "      <td>0.844565</td>\n",
       "      <td>{'logisticregression__C': 1}</td>\n",
       "    </tr>\n",
       "  </tbody>\n",
       "</table>\n",
       "</div>"
      ],
      "text/plain": [
       "                 model  best_score  \\\n",
       "0                  svm    0.827536   \n",
       "1        random_forest    0.714493   \n",
       "2  logistic_regression    0.844565   \n",
       "\n",
       "                                    best_params  \n",
       "0        {'svc__C': 1, 'svc__kernel': 'linear'}  \n",
       "1  {'randomforestclassifier__n_estimators': 10}  \n",
       "2                  {'logisticregression__C': 1}  "
      ]
     },
     "execution_count": 132,
     "metadata": {},
     "output_type": "execute_result"
    }
   ],
   "source": [
    "scores = []\n",
    "best_estimators = {}\n",
    "import pandas as pd\n",
    "for algo, mp in model_params.items():\n",
    "    pipe = make_pipeline(StandardScaler(), mp['model'])\n",
    "    clf =  GridSearchCV(pipe, mp['params'], cv=5, return_train_score=False)\n",
    "    clf.fit(X_train, y_train)\n",
    "    scores.append({\n",
    "        'model': algo,\n",
    "        'best_score': clf.best_score_,\n",
    "        'best_params': clf.best_params_\n",
    "    })\n",
    "    best_estimators[algo] = clf.best_estimator_\n",
    "    \n",
    "df = pd.DataFrame(scores,columns=['model','best_score','best_params'])\n",
    "df"
   ]
  },
  {
   "cell_type": "code",
   "execution_count": 133,
   "id": "4da8f475",
   "metadata": {},
   "outputs": [
    {
     "data": {
      "text/plain": [
       "0.7435897435897436"
      ]
     },
     "execution_count": 133,
     "metadata": {},
     "output_type": "execute_result"
    }
   ],
   "source": [
    "best_estimators['svm'].score(X_test,y_test)"
   ]
  },
  {
   "cell_type": "code",
   "execution_count": 134,
   "id": "be8c0196",
   "metadata": {},
   "outputs": [
    {
     "data": {
      "text/plain": [
       "0.717948717948718"
      ]
     },
     "execution_count": 134,
     "metadata": {},
     "output_type": "execute_result"
    }
   ],
   "source": [
    "best_estimators['random_forest'].score(X_test,y_test)"
   ]
  },
  {
   "cell_type": "code",
   "execution_count": 135,
   "id": "4256e1e0",
   "metadata": {},
   "outputs": [
    {
     "data": {
      "text/plain": [
       "0.8205128205128205"
      ]
     },
     "execution_count": 135,
     "metadata": {},
     "output_type": "execute_result"
    }
   ],
   "source": [
    "best_estimators['logistic_regression'].score(X_test,y_test)"
   ]
  },
  {
   "cell_type": "code",
   "execution_count": 136,
   "id": "79c7f1eb",
   "metadata": {},
   "outputs": [],
   "source": [
    "best_clf=best_estimators['logistic_regression']"
   ]
  },
  {
   "cell_type": "code",
   "execution_count": 137,
   "id": "08cd65f2",
   "metadata": {},
   "outputs": [
    {
     "data": {
      "text/plain": [
       "array([[ 9,  0,  2,  0],\n",
       "       [ 0,  4,  1,  1],\n",
       "       [ 3,  0, 11,  0],\n",
       "       [ 0,  0,  0,  8]], dtype=int64)"
      ]
     },
     "execution_count": 137,
     "metadata": {},
     "output_type": "execute_result"
    }
   ],
   "source": [
    "from sklearn.metrics import confusion_matrix\n",
    "cm = confusion_matrix(y_test, best_clf.predict(X_test))\n",
    "cm"
   ]
  },
  {
   "cell_type": "code",
   "execution_count": 138,
   "id": "34ddec2c",
   "metadata": {},
   "outputs": [
    {
     "data": {
      "text/plain": [
       "Text(95.72222222222221, 0.5, 'Truth')"
      ]
     },
     "execution_count": 138,
     "metadata": {},
     "output_type": "execute_result"
    },
    {
     "data": {
      "image/png": "[encoded data removed]",
      "text/plain": [
       "<Figure size 1000x700 with 2 Axes>"
      ]
     },
     "metadata": {},
     "output_type": "display_data"
    }
   ],
   "source": [
    "import seaborn as sn\n",
    "plt.figure(figsize = (10,7))\n",
    "sn.heatmap(cm, annot=True)\n",
    "plt.xlabel('Predicted')\n",
    "plt.ylabel('Truth')"
   ]
  },
  {
   "cell_type": "code",
   "execution_count": 139,
   "id": "42834f80",
   "metadata": {},
   "outputs": [
    {
     "data": {
      "text/plain": [
       "{'mari_sharapova - Google Search': 0,\n",
       " 'messi_leonel - Google Search': 1,\n",
       " 'sarina_williams - Google Search': 2,\n",
       " 'virat_kohli - Google Search': 3}"
      ]
     },
     "execution_count": 139,
     "metadata": {},
     "output_type": "execute_result"
    }
   ],
   "source": [
    "class_dict"
   ]
  },
  {
   "cell_type": "markdown",
   "id": "f80b667f",
   "metadata": {},
   "source": [
    "Saving the trained model"
   ]
  },
  {
   "cell_type": "code",
   "execution_count": 141,
   "id": "e53037a3",
   "metadata": {},
   "outputs": [
    {
     "data": {
      "text/plain": [
       "['saved_model.pkl']"
      ]
     },
     "execution_count": 141,
     "metadata": {},
     "output_type": "execute_result"
    }
   ],
   "source": [
    "import joblib \n",
    "joblib.dump(best_clf, 'saved_model.pkl')"
   ]
  },
  {
   "cell_type": "markdown",
   "id": "5f40fb52",
   "metadata": {},
   "source": [
    "Saving class dictionary"
   ]
  },
  {
   "cell_type": "code",
   "execution_count": 142,
   "id": "87396b0f",
   "metadata": {},
   "outputs": [],
   "source": [
    "import json\n",
    "with open(\"class_dictionary.json\",\"w\") as f:\n",
    "    f.write(json.dumps(class_dict))"
   ]
  }
 ],
 "metadata": {
  "kernelspec": {
   "display_name": "Python 3 (ipykernel)",
   "language": "python",
   "name": "python3"
  },
  "language_info": {
   "codemirror_mode": {
    "name": "ipython",
    "version": 3
   },
   "file_extension": ".py",
   "mimetype": "text/x-python",
   "name": "python",
   "nbconvert_exporter": "python",
   "pygments_lexer": "ipython3",
   "version": "3.11.4"
  }
 },
 "nbformat": 4,
 "nbformat_minor": 5
}
